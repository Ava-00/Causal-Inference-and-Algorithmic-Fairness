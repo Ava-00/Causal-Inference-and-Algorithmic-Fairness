{
  "cells": [
    {
      "cell_type": "markdown",
      "metadata": {
        "id": "view-in-github",
        "colab_type": "text"
      },
      "source": [
        "<a href=\"https://colab.research.google.com/github/Ava-00/Causal-Inference-and-Algorithmic-Fairness/blob/main/Causal_Model_Simulation.ipynb\" target=\"_parent\"><img src=\"https://colab.research.google.com/assets/colab-badge.svg\" alt=\"Open In Colab\"/></a>"
      ]
    },
    {
      "cell_type": "code",
      "execution_count": null,
      "metadata": {
        "colab": {
          "base_uri": "https://localhost:8080/"
        },
        "id": "6X6WrNHJLeTH",
        "outputId": "4cb17810-6054-43e4-e720-201869716ebf"
      },
      "outputs": [
        {
          "name": "stdout",
          "output_type": "stream",
          "text": [
            "Model Accuracy: 0.6685\n",
            "Fitted Intercept (beta_0): -0.9016708377878011\n",
            "Fitted Coefficient for Gender (beta_gender): 1.0102693376086902\n",
            "Fitted Coefficient for Test_Score (beta_test_score): 0.018729908823899157\n"
          ]
        }
      ],
      "source": [
        "#Simulating model data with the following assumptions: 1. Men receive an additional point advantage as opposed to women when it comes to finding jobs\n",
        "#Initializing gender factor and generating data\n",
        "import numpy as np\n",
        "import pandas as pd\n",
        "from scipy.special import expit\n",
        "from sklearn.linear_model import LogisticRegression\n",
        "from sklearn.model_selection import train_test_split\n",
        "from sklearn.metrics import accuracy_score\n",
        "def generate_data(n):\n",
        "    gender = np.random.binomial(1, 0.5, n)\n",
        "    test_scores = np.maximum(0, np.minimum(100, 2 * gender + 100 * np.random.rand(n)))\n",
        "    X = pd.DataFrame({\n",
        "        'Gender': gender,\n",
        "        'Test_Score': test_scores,\n",
        "    })\n",
        "    return X\n",
        "X = generate_data(10000)\n",
        "\n",
        "beta_0 = -1.0\n",
        "beta_gender = 1.0\n",
        "beta_test_score = 2.0\n",
        "\n",
        "\n",
        "logits = beta_0 + beta_gender * X['Gender'] + beta_test_score * X['Test_Score'] / 100.0\n",
        "probabilities = 1 / (1 + np.exp(-logits))\n",
        "admission = np.random.binomial(1, probabilities)\n",
        "y = admission\n",
        "\n",
        "X_train, X_test, y_train, y_test = train_test_split(X, y, test_size=0.2, random_state=42)\n",
        "model = LogisticRegression()\n",
        "model.fit(X_train, y_train)\n",
        "y_pred = model.predict(X_test) #threshold = 0.5\n",
        "accuracy = accuracy_score(y_test, y_pred)\n",
        "print(f\"Model Accuracy: {accuracy}\")\n",
        "fitted_beta_0 = model.intercept_[0]\n",
        "fitted_beta_gender, fitted_beta_test_score = model.coef_[0]\n",
        "\n",
        "print(f\"Fitted Intercept (beta_0): {fitted_beta_0}\")\n",
        "print(f\"Fitted Coefficient for Gender (beta_gender): {fitted_beta_gender}\")\n",
        "print(f\"Fitted Coefficient for Test_Score (beta_test_score): {fitted_beta_test_score}\")"
      ]
    },
    {
      "cell_type": "code",
      "execution_count": null,
      "metadata": {
        "colab": {
          "base_uri": "https://localhost:8080/"
        },
        "id": "jieQGVahSrQ2",
        "outputId": "64e41e19-a377-4898-e72a-c1a45772f6f8"
      },
      "outputs": [
        {
          "name": "stdout",
          "output_type": "stream",
          "text": [
            "Model Accuracy with EO Adjustment: 0.383\n"
          ]
        },
        {
          "data": {
            "text/plain": [
              "array([0, 0, 0, ..., 0, 0, 0])"
            ]
          },
          "execution_count": 14,
          "metadata": {},
          "output_type": "execute_result"
        }
      ],
      "source": [
        "from scipy.integrate import quad\n",
        "def gender_probabilities(s):\n",
        "    return 0.5\n",
        "#Defining equal opportunity model\n",
        "def f_eo(testscore_new, model):\n",
        "    temp_df = pd.DataFrame({'Gender': [0], 'Test_Score': [testscore_new]})\n",
        "\n",
        "    probability = model.predict_proba(temp_df)[:, 1][0]\n",
        "\n",
        "    def integrand(s):\n",
        "        return probability * (gender_probabilities(s))  # Use probability directly\n",
        "\n",
        "    result, error = quad(integrand, 0,1)\n",
        "    return result\n",
        "\n",
        "adjusted_probabilities = []\n",
        "for i in range(len(X_test)):\n",
        "    eo_testscore = X_test[\"Test_Score\"].iloc[i]\n",
        "    adjusted_prob = f_eo(eo_testscore, model)\n",
        "    adjusted_probabilities.append(adjusted_prob)\n",
        "\n",
        "adjusted_probabilities = np.array(adjusted_probabilities)\n",
        "y_pred_new = (adjusted_probabilities > 0.5).astype(int) #initialize threshhold\n",
        "accuracy_new = accuracy_score(y_test, y_pred_new)\n",
        "print(f\"Model Accuracy with EO Adjustment: {accuracy_new}\")\n",
        "y_pred_new"
      ]
    },
    {
      "cell_type": "code",
      "execution_count": null,
      "metadata": {
        "id": "C7NwCDzHXR5R"
      },
      "outputs": [],
      "source": [
        "#Affirmative Action Abduction Step and Computation\n",
        "\n",
        "from scipy.integrate import dblquad\n",
        "from scipy.integrate import romberg\n",
        "from sklearn.linear_model import LinearRegression\n",
        "\n",
        "sensitive_attr = 'Gender'\n",
        "non_sensitive_attr = 'Test_Score'\n",
        "\n",
        "X_sensitive = X_test[[sensitive_attr]]\n",
        "X_non_sensitive = X_test[[non_sensitive_attr]]\n",
        "\n",
        "#abduction step\n",
        "regressor = LinearRegression()\n",
        "regressor.fit(X_sensitive, X_non_sensitive)\n",
        "\n",
        "#compute residual scores\n",
        "X_test['AA_testscores'] = X_test[non_sensitive_attr] - regressor.predict(X_sensitive).flatten()\n",
        "\n",
        "def p_a_given_s(AA_testscores):\n",
        "    return 1 / 100 if 0 <= AA_testscores <= 100 else 0\n",
        "\n",
        "def f_aa(eo_testscore, AA_testscores, model):\n",
        "    def integrand(a, s):\n",
        "        temp_df = pd.DataFrame({'Gender': [s], 'Test_Score': [eo_testscore]})\n",
        "        prob = model.predict_proba(temp_df)[:, 1][0]\n",
        "        return (prob * p_a_given_s(AA_testscores) * gender_probabilities(s))\n",
        "\n",
        "    result_aa, error = dblquad(integrand, 0, 1, lambda x: 0, lambda x: 1)  # Integrate over both a and s\n",
        "    return result_aa"
      ]
    },
    {
      "cell_type": "code",
      "execution_count": null,
      "metadata": {
        "id": "Rr2mezgaSMjL"
      },
      "outputs": [],
      "source": [
        "import numpy as np\n",
        "from sklearn.metrics import accuracy_score\n",
        "\n",
        "# Assuming f_aa is vectorized and can take an array of test scores\n",
        "def f_aa_vectorized(test_scores, AA_testscores, model):\n",
        "    adjusted_probs = []\n",
        "    for i, testscore_new in enumerate(test_scores):  # Use enumerate to get the index\n",
        "        # Call f_aa for each test score, but pass the current AA_testscore as a scalar using the index\n",
        "        adjusted_prob = f_aa(testscore_new, AA_testscores[i], model)\n",
        "        adjusted_probs.append(adjusted_prob)\n",
        "    return np.array(adjusted_probs)"
      ]
    },
    {
      "cell_type": "code",
      "execution_count": null,
      "metadata": {
        "colab": {
          "background_save": true
        },
        "id": "1LgkgeDcpIng",
        "outputId": "16f6d8cd-a96f-4dc5-c64e-8577fc7ca3f7"
      },
      "outputs": [
        {
          "name": "stdout",
          "output_type": "stream",
          "text": [
            "Model Accuracy with AA Adjustment: 0.3830\n"
          ]
        },
        {
          "data": {
            "text/plain": [
              "array([0, 0, 0, ..., 0, 0, 0])"
            ]
          },
          "execution_count": 19,
          "metadata": {},
          "output_type": "execute_result"
        }
      ],
      "source": [
        "import numpy as np\n",
        "from sklearn.metrics import accuracy_score\n",
        "\n",
        "# Extracting test scores\n",
        "eo_testscore = X_test[\"Test_Score\"].values\n",
        "AA_testscores = X_test[\"AA_testscores\"].values # Extract AA_testscores\n",
        "\n",
        "# Assuming new_testscores is computed earlier in your code\n",
        "adjusted_probabilities_aa = f_aa_vectorized(eo_testscore, AA_testscores, model) # Pass AA_testscores to f_aa_vectorized\n",
        "\n",
        "# Generate predictions based on the adjusted probabilities\n",
        "y_pred_aa = (adjusted_probabilities_aa > 0.5).astype(int)\n",
        "\n",
        "accuracy_aa = accuracy_score(y_test, y_pred_aa)\n",
        "print(f\"Model Accuracy with AA Adjustment: {accuracy_aa:.4f}\")\n",
        "y_pred_aa"
      ]
    }
  ],
  "metadata": {
    "accelerator": "TPU",
    "colab": {
      "gpuType": "V28",
      "provenance": [],
      "authorship_tag": "ABX9TyNVo/+R2IiJIlO+FwSzClzn",
      "include_colab_link": true
    },
    "kernelspec": {
      "display_name": "Python 3",
      "name": "python3"
    },
    "language_info": {
      "name": "python"
    }
  },
  "nbformat": 4,
  "nbformat_minor": 0
}