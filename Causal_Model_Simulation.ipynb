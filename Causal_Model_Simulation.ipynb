{
  "nbformat": 4,
  "nbformat_minor": 0,
  "metadata": {
    "colab": {
      "provenance": [],
      "authorship_tag": "ABX9TyOjiVnBBztYC2+x6Tuh7L/C",
      "include_colab_link": true
    },
    "kernelspec": {
      "name": "python3",
      "display_name": "Python 3"
    },
    "language_info": {
      "name": "python"
    }
  },
  "cells": [
    {
      "cell_type": "markdown",
      "metadata": {
        "id": "view-in-github",
        "colab_type": "text"
      },
      "source": [
        "<a href=\"https://colab.research.google.com/github/Ava-00/Causal-Inference-and-Algorithmic-Fairness/blob/main/Causal_Model_Simulation.ipynb\" target=\"_parent\"><img src=\"https://colab.research.google.com/assets/colab-badge.svg\" alt=\"Open In Colab\"/></a>"
      ]
    },
    {
      "cell_type": "code",
      "execution_count": null,
      "metadata": {
        "colab": {
          "base_uri": "https://localhost:8080/"
        },
        "id": "6X6WrNHJLeTH",
        "outputId": "a97c10c7-4e7d-4c19-e882-91a973c202b9"
      },
      "outputs": [
        {
          "output_type": "stream",
          "name": "stdout",
          "text": [
            "   Gender  Test_Score  Admission\n",
            "0       0   84.420222          1\n",
            "1       0   22.854344          1\n",
            "2       1   86.081330          1\n",
            "3       0   16.864310          1\n",
            "4       1   16.544835          1\n"
          ]
        }
      ],
      "source": [
        "#Simulating model data with the following assumptions: 1. Men receive an additional point advantage as opposed to women when it comes to finding jobs\n",
        "#Initializing gender factor and generating data\n",
        "import numpy as np\n",
        "import pandas as pd\n",
        "from scipy.special import expit\n",
        "def generate_data(n):\n",
        "    gender = np.random.binomial(1, 0.5, n)\n",
        "    test_scores = np.maximum(0, np.minimum(100, 2 * gender + 100 * np.random.rand(n))) #random score values\n",
        "    admission_probs = expit(-1.0 + 2.0 * test_scores + 1.0 * gender)\n",
        "    admissions = np.random.binomial(1, admission_probs)\n",
        "    df = pd.DataFrame({\n",
        "        'Gender': gender,\n",
        "        'Test_Score': test_scores,\n",
        "        'Admission': admissions\n",
        "    })\n",
        "\n",
        "    return df\n",
        "\n",
        "df = generate_data(10000)\n",
        "print(df.head())\n",
        "\n",
        "#Simulating Models\n",
        "def equal_opp(test_scores, gender):\n",
        "    return expit(-1.0 + 2.0 * test_scores + 1.0 * gender)\n",
        "\n",
        "def affirm_acc(test_scores, gender):\n",
        "    if gender == 0:\n",
        "       return expit(-1.0 + 2.0 * test_scores + 1.0 * gender + 1) #applying affirmative action fix\n",
        "    else:\n",
        "       return expit(-1.0 + 2.0 * test_scores + 1.0 * gender)\n"
      ]
    },
    {
      "cell_type": "code",
      "source": [
        "#Running Simulations\n",
        "def simulate_new_applicant(test_scores, gender, model_type='EO''AA'):\n",
        "    if model_type == 'EO':\n",
        "        return equal_opp(test_scores, gender)\n",
        "    elif model_type == 'AA':\n",
        "        return affirm_acc(test_scores, gender)\n",
        "    else:\n",
        "        raise ValueError(\"Invalid model type. Choose 'EO' or 'AA'.\")"
      ],
      "metadata": {
        "id": "jieQGVahSrQ2"
      },
      "execution_count": null,
      "outputs": []
    },
    {
      "cell_type": "code",
      "source": [
        "#Model Test\n",
        "new_applicants = pd.DataFrame({\n",
        "    'Gender': [0, 1, 0, 1],\n",
        "    'Test_Score': [80, 30, 60, 60]\n",
        "})\n",
        "new_applicants['EO_Admission_Prob'] = new_applicants.apply(lambda x: simulate_new_applicant(x['Test_Score'], x['Gender'], model_type='EO'), axis=1)\n",
        "new_applicants['AA_Admission_Prob'] = new_applicants.apply(lambda x: simulate_new_applicant(x['Test_Score'], x['Gender'], model_type='AA'), axis=1)\n",
        "\n",
        "print(new_applicants)"
      ],
      "metadata": {
        "colab": {
          "base_uri": "https://localhost:8080/"
        },
        "id": "mbhP76kFUOpa",
        "outputId": "4cf4a4cb-d1e0-4810-88e5-06ca60c48ff9"
      },
      "execution_count": null,
      "outputs": [
        {
          "output_type": "stream",
          "name": "stdout",
          "text": [
            "   Gender  Test_Score  EO_Admission_Prob  AA_Admission_Prob\n",
            "0       0          80                1.0                1.0\n",
            "1       1          30                1.0                1.0\n",
            "2       0          60                1.0                1.0\n",
            "3       1          60                1.0                1.0\n"
          ]
        }
      ]
    },
    {
      "cell_type": "code",
      "source": [
        "def generate_data_1(n):\n",
        "    gender = np.random.binomial(1, 0.5, n)\n",
        "    test_scores_1 = np.maximum(0, np.minimum(100, 2 * gender + 100 * np.random.rand(n))) #random score values\n",
        "    admission_probs_1 = expit(-1.0 + 2.0 * test_scores_1 + 1.0 * gender)\n",
        "    admissions_1 = np.random.binomial(1, admission_probs_1)\n",
        "    df_1 = pd.DataFrame({\n",
        "        'Gender': gender,\n",
        "        'Test_Score': test_scores_1,\n",
        "        'Admission': admissions_1\n",
        "    })\n",
        "\n",
        "    return df\n",
        "\n",
        "df_1 = generate_data(10000)\n",
        "print(df_1.head())\n",
        "\n",
        "#Simulating Models\n",
        "def equal_opp_1(test_scores_1, gender):\n",
        "    return expit(-3.0 + 0.05 * test_scores_1)\n",
        "\n",
        "def affirm_acc_1( test_scores_1, gender):\n",
        "    if gender == 0:\n",
        "       return expit(-3.0 + 0.05 * test_scores_1 + 0.5) #applying affirmative action fix\n",
        "    else:\n",
        "       return expit(-3.0 + 0.05 * test_scores_1)\n",
        "\n",
        "#Running Simulations\n",
        "def simulate_new_applicant(test_scores_1, gender, model_type='EO_1''AA_1'):\n",
        "    if model_type == 'EO_1':\n",
        "        return equal_opp_1(test_scores_1, gender)\n",
        "    elif model_type == 'AA_1':\n",
        "        return affirm_acc_1(test_scores_1, gender)\n",
        "    else:\n",
        "        raise ValueError(\"Invalid model type. Choose 'EO_1' or 'AA_1'.\")\n",
        "\n",
        "#Model Test\n",
        "new_applicants_1 = pd.DataFrame({\n",
        "    'Gender_2.0': [0, 1, 0, 1],\n",
        "    'Test_Score_2.0': [80, 30, 60, 60]\n",
        "})\n",
        "new_applicants_1['EO_Admission_Prob'] = new_applicants.apply(lambda x: simulate_new_applicant(x['Test_Score'], x['Gender'], model_type='EO_1'), axis=1)\n",
        "new_applicants_1['AA_Admission_Prob'] = new_applicants.apply(lambda x: simulate_new_applicant(x['Test_Score'], x['Gender'], model_type='AA_1'), axis=1)\n",
        "\n",
        "print(new_applicants_1)"
      ],
      "metadata": {
        "colab": {
          "base_uri": "https://localhost:8080/"
        },
        "id": "fGFhXdW_ZXiY",
        "outputId": "7b05f0fe-983e-462a-da0f-51f5d98a2522"
      },
      "execution_count": null,
      "outputs": [
        {
          "output_type": "stream",
          "name": "stdout",
          "text": [
            "   Gender  Test_Score  Admission\n",
            "0       1   50.347058          1\n",
            "1       1   20.304910          1\n",
            "2       0   98.971172          1\n",
            "3       0   59.192288          1\n",
            "4       1   53.515412          1\n",
            "   Gender_2.0  Test_Score_2.0  EO_Admission_Prob  AA_Admission_Prob\n",
            "0           0              80           0.731059           0.817574\n",
            "1           1              30           0.182426           0.182426\n",
            "2           0              60           0.500000           0.622459\n",
            "3           1              60           0.500000           0.500000\n"
          ]
        }
      ]
    }
  ]
}